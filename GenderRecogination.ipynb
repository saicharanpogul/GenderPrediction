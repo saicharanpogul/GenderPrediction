{
 "cells": [
  {
   "cell_type": "code",
   "execution_count": 1,
   "metadata": {},
   "outputs": [
    {
     "name": "stderr",
     "output_type": "stream",
     "text": [
      "C:\\Users\\Saicharan Pogul\\Anaconda3\\lib\\site-packages\\h5py\\__init__.py:36: FutureWarning: Conversion of the second argument of issubdtype from `float` to `np.floating` is deprecated. In future, it will be treated as `np.float64 == np.dtype(float).type`.\n",
      "  from ._conv import register_converters as _register_converters\n",
      "Using TensorFlow backend.\n"
     ]
    }
   ],
   "source": [
    "from keras.models import Sequential\n",
    "from keras.layers import Dense\n",
    "from keras.layers import Conv2D\n",
    "from keras.layers import MaxPooling2D\n",
    "from keras.layers import Flatten"
   ]
  },
  {
   "cell_type": "code",
   "execution_count": 2,
   "metadata": {},
   "outputs": [],
   "source": [
    "gender = Sequential()"
   ]
  },
  {
   "cell_type": "code",
   "execution_count": 3,
   "metadata": {},
   "outputs": [
    {
     "name": "stderr",
     "output_type": "stream",
     "text": [
      "C:\\Users\\Saicharan Pogul\\Anaconda3\\lib\\site-packages\\ipykernel_launcher.py:1: UserWarning: Update your `Conv2D` call to the Keras 2 API: `Conv2D(32, (3, 3), input_shape=(64, 64, 3..., activation=\"relu\")`\n",
      "  \"\"\"Entry point for launching an IPython kernel.\n"
     ]
    }
   ],
   "source": [
    "gender.add(Conv2D(32,3,3,input_shape=(64,64,3),activation='relu'))"
   ]
  },
  {
   "cell_type": "code",
   "execution_count": 4,
   "metadata": {},
   "outputs": [],
   "source": [
    "gender.add(MaxPooling2D(pool_size=(2,2)))"
   ]
  },
  {
   "cell_type": "code",
   "execution_count": 5,
   "metadata": {},
   "outputs": [],
   "source": [
    "gender.add(Flatten())"
   ]
  },
  {
   "cell_type": "code",
   "execution_count": 6,
   "metadata": {},
   "outputs": [
    {
     "name": "stderr",
     "output_type": "stream",
     "text": [
      "C:\\Users\\Saicharan Pogul\\Anaconda3\\lib\\site-packages\\ipykernel_launcher.py:1: UserWarning: Update your `Dense` call to the Keras 2 API: `Dense(activation=\"relu\", units=128, kernel_initializer=\"random_uniform\")`\n",
      "  \"\"\"Entry point for launching an IPython kernel.\n"
     ]
    }
   ],
   "source": [
    "gender.add(Dense(output_dim=128,activation='relu',init='random_uniform'))"
   ]
  },
  {
   "cell_type": "code",
   "execution_count": 7,
   "metadata": {},
   "outputs": [
    {
     "name": "stderr",
     "output_type": "stream",
     "text": [
      "C:\\Users\\Saicharan Pogul\\Anaconda3\\lib\\site-packages\\ipykernel_launcher.py:1: UserWarning: Update your `Dense` call to the Keras 2 API: `Dense(activation=\"sigmoid\", units=1, kernel_initializer=\"random_uniform\")`\n",
      "  \"\"\"Entry point for launching an IPython kernel.\n"
     ]
    }
   ],
   "source": [
    "gender.add(Dense(output_dim=1,activation='sigmoid',init='random_uniform'))"
   ]
  },
  {
   "cell_type": "code",
   "execution_count": 8,
   "metadata": {},
   "outputs": [],
   "source": [
    "gender.compile(optimizer='adam',loss='binary_crossentropy',metrics=['accuracy'])"
   ]
  },
  {
   "cell_type": "code",
   "execution_count": 9,
   "metadata": {},
   "outputs": [],
   "source": [
    "from keras.preprocessing.image import ImageDataGenerator"
   ]
  },
  {
   "cell_type": "code",
   "execution_count": 10,
   "metadata": {},
   "outputs": [],
   "source": [
    "train_datagen=ImageDataGenerator(rescale=1./255,shear_range=0.2,zoom_range=0.2,horizontal_flip=True)\n",
    "test_datagen = ImageDataGenerator(rescale=1./255)"
   ]
  },
  {
   "cell_type": "code",
   "execution_count": 11,
   "metadata": {},
   "outputs": [
    {
     "name": "stdout",
     "output_type": "stream",
     "text": [
      "Found 7818 images belonging to 2 classes.\n",
      "Found 1955 images belonging to 2 classes.\n"
     ]
    }
   ],
   "source": [
    "x_train = train_datagen.flow_from_directory(r'C:\\Users\\Saicharan Pogul\\Desktop\\SIP2019\\dataset\\training_set',target_size=(64,64),batch_size=32,class_mode='binary')\n",
    "x_test = train_datagen.flow_from_directory(r'C:\\Users\\Saicharan Pogul\\Desktop\\SIP2019\\dataset\\test_set',target_size=(64,64),batch_size=32,class_mode='binary')"
   ]
  },
  {
   "cell_type": "code",
   "execution_count": 12,
   "metadata": {},
   "outputs": [
    {
     "name": "stdout",
     "output_type": "stream",
     "text": [
      "{'female': 0, 'male': 1}\n"
     ]
    }
   ],
   "source": [
    "print(x_train.class_indices)"
   ]
  },
  {
   "cell_type": "code",
   "execution_count": 15,
   "metadata": {
    "scrolled": true
   },
   "outputs": [
    {
     "name": "stderr",
     "output_type": "stream",
     "text": [
      "C:\\Users\\Saicharan Pogul\\Anaconda3\\lib\\site-packages\\ipykernel_launcher.py:1: UserWarning: The semantics of the Keras 2 argument `steps_per_epoch` is not the same as the Keras 1 argument `samples_per_epoch`. `steps_per_epoch` is the number of batches to draw from the generator at each epoch. Basically steps_per_epoch = samples_per_epoch/batch_size. Similarly `nb_val_samples`->`validation_steps` and `val_samples`->`steps` arguments have changed. Update your method calls accordingly.\n",
      "  \"\"\"Entry point for launching an IPython kernel.\n",
      "C:\\Users\\Saicharan Pogul\\Anaconda3\\lib\\site-packages\\ipykernel_launcher.py:1: UserWarning: Update your `fit_generator` call to the Keras 2 API: `fit_generator(<keras_pre..., epochs=35, validation_data=<keras_pre..., steps_per_epoch=244, validation_steps=1955)`\n",
      "  \"\"\"Entry point for launching an IPython kernel.\n"
     ]
    },
    {
     "name": "stdout",
     "output_type": "stream",
     "text": [
      "Epoch 1/35\n",
      "244/244 [==============================] - 601s 2s/step - loss: 0.3241 - acc: 0.8431 - val_loss: 0.3936 - val_acc: 0.8031\n",
      "Epoch 2/35\n",
      "244/244 [==============================] - 535s 2s/step - loss: 0.3230 - acc: 0.8427 - val_loss: 0.3832 - val_acc: 0.8123\n",
      "Epoch 3/35\n",
      "244/244 [==============================] - 564s 2s/step - loss: 0.3216 - acc: 0.8505 - val_loss: 0.4023 - val_acc: 0.8009\n",
      "Epoch 4/35\n",
      "244/244 [==============================] - 584s 2s/step - loss: 0.3198 - acc: 0.8502 - val_loss: 0.3981 - val_acc: 0.7976\n",
      "Epoch 5/35\n",
      "244/244 [==============================] - 583s 2s/step - loss: 0.3098 - acc: 0.8513 - val_loss: 0.3889 - val_acc: 0.8037\n",
      "Epoch 6/35\n",
      "244/244 [==============================] - 580s 2s/step - loss: 0.3142 - acc: 0.8508 - val_loss: 0.3839 - val_acc: 0.8150\n",
      "Epoch 7/35\n",
      "244/244 [==============================] - 590s 2s/step - loss: 0.3097 - acc: 0.8557 - val_loss: 0.3668 - val_acc: 0.8259\n",
      "Epoch 8/35\n",
      "244/244 [==============================] - 566s 2s/step - loss: 0.3078 - acc: 0.8534 - val_loss: 0.3997 - val_acc: 0.7976\n",
      "Epoch 9/35\n",
      "244/244 [==============================] - 570s 2s/step - loss: 0.3028 - acc: 0.8583 - val_loss: 0.3800 - val_acc: 0.8159\n",
      "Epoch 10/35\n",
      "244/244 [==============================] - 570s 2s/step - loss: 0.2953 - acc: 0.8603 - val_loss: 0.4053 - val_acc: 0.8027\n",
      "Epoch 11/35\n",
      "244/244 [==============================] - 570s 2s/step - loss: 0.3093 - acc: 0.8543 - val_loss: 0.3675 - val_acc: 0.8233\n",
      "Epoch 12/35\n",
      "244/244 [==============================] - 581s 2s/step - loss: 0.2924 - acc: 0.8614 - val_loss: 0.3746 - val_acc: 0.8145\n",
      "Epoch 13/35\n",
      "244/244 [==============================] - 580s 2s/step - loss: 0.2981 - acc: 0.8623 - val_loss: 0.3810 - val_acc: 0.8185\n",
      "Epoch 14/35\n",
      "244/244 [==============================] - 593s 2s/step - loss: 0.2925 - acc: 0.8609 - val_loss: 0.3772 - val_acc: 0.8182\n",
      "Epoch 15/35\n",
      "244/244 [==============================] - 587s 2s/step - loss: 0.2899 - acc: 0.8637 - val_loss: 0.3734 - val_acc: 0.8176\n",
      "Epoch 16/35\n",
      "244/244 [==============================] - 585s 2s/step - loss: 0.2782 - acc: 0.8688 - val_loss: 0.3751 - val_acc: 0.8194\n",
      "Epoch 17/35\n",
      "244/244 [==============================] - 577s 2s/step - loss: 0.2870 - acc: 0.8661 - val_loss: 0.3698 - val_acc: 0.8207\n",
      "Epoch 18/35\n",
      "244/244 [==============================] - 612s 3s/step - loss: 0.2714 - acc: 0.8733 - val_loss: 0.4042 - val_acc: 0.8087\n",
      "Epoch 19/35\n",
      "244/244 [==============================] - 829s 3s/step - loss: 0.2781 - acc: 0.8706 - val_loss: 0.3886 - val_acc: 0.8129\n",
      "Epoch 20/35\n",
      "244/244 [==============================] - 847s 3s/step - loss: 0.2689 - acc: 0.8783 - val_loss: 0.4092 - val_acc: 0.8092\n",
      "Epoch 21/35\n",
      "244/244 [==============================] - 835s 3s/step - loss: 0.2696 - acc: 0.8782 - val_loss: 0.3767 - val_acc: 0.8138\n",
      "Epoch 22/35\n",
      "244/244 [==============================] - 566s 2s/step - loss: 0.2705 - acc: 0.8772 - val_loss: 0.3799 - val_acc: 0.8137\n",
      "Epoch 23/35\n",
      "244/244 [==============================] - 551s 2s/step - loss: 0.2629 - acc: 0.8807 - val_loss: 0.3726 - val_acc: 0.8272\n",
      "Epoch 24/35\n",
      "244/244 [==============================] - 543s 2s/step - loss: 0.2640 - acc: 0.8795 - val_loss: 0.3885 - val_acc: 0.8172\n",
      "Epoch 25/35\n",
      "244/244 [==============================] - 575s 2s/step - loss: 0.2624 - acc: 0.8790 - val_loss: 0.3651 - val_acc: 0.8288\n",
      "Epoch 26/35\n",
      "244/244 [==============================] - 539s 2s/step - loss: 0.2538 - acc: 0.8819 - val_loss: 0.4485 - val_acc: 0.8130\n",
      "Epoch 27/35\n",
      "244/244 [==============================] - 543s 2s/step - loss: 0.2634 - acc: 0.8788 - val_loss: 0.3552 - val_acc: 0.8334\n",
      "Epoch 28/35\n",
      "244/244 [==============================] - 550s 2s/step - loss: 0.2606 - acc: 0.8821 - val_loss: 0.3921 - val_acc: 0.8148\n",
      "Epoch 29/35\n",
      "244/244 [==============================] - 543s 2s/step - loss: 0.2534 - acc: 0.8847 - val_loss: 0.4039 - val_acc: 0.8200\n",
      "Epoch 30/35\n",
      "244/244 [==============================] - 567s 2s/step - loss: 0.2560 - acc: 0.8847 - val_loss: 0.4049 - val_acc: 0.8118\n",
      "Epoch 31/35\n",
      "244/244 [==============================] - 576s 2s/step - loss: 0.2580 - acc: 0.8824 - val_loss: 0.3767 - val_acc: 0.8243\n",
      "Epoch 32/35\n",
      "244/244 [==============================] - 552s 2s/step - loss: 0.2514 - acc: 0.8855 - val_loss: 0.3750 - val_acc: 0.8270\n",
      "Epoch 33/35\n",
      "244/244 [==============================] - 547s 2s/step - loss: 0.2488 - acc: 0.8830 - val_loss: 0.4066 - val_acc: 0.8154\n",
      "Epoch 34/35\n",
      "244/244 [==============================] - 578s 2s/step - loss: 0.2444 - acc: 0.8893 - val_loss: 0.3698 - val_acc: 0.8297\n",
      "Epoch 35/35\n",
      "244/244 [==============================] - 545s 2s/step - loss: 0.2365 - acc: 0.8913 - val_loss: 0.3759 - val_acc: 0.8271\n"
     ]
    },
    {
     "data": {
      "text/plain": [
       "<keras.callbacks.History at 0x22f747f3b38>"
      ]
     },
     "execution_count": 15,
     "metadata": {},
     "output_type": "execute_result"
    }
   ],
   "source": [
    "gender.fit_generator(x_train,samples_per_epoch = 7818, epochs = 35, validation_data = x_test, nb_val_samples = 1955)"
   ]
  },
  {
   "cell_type": "code",
   "execution_count": 16,
   "metadata": {},
   "outputs": [],
   "source": [
    "gender.save('gender_recogination.h5')"
   ]
  },
  {
   "cell_type": "code",
   "execution_count": null,
   "metadata": {},
   "outputs": [],
   "source": []
  }
 ],
 "metadata": {
  "kernelspec": {
   "display_name": "Python 3",
   "language": "python",
   "name": "python3"
  },
  "language_info": {
   "codemirror_mode": {
    "name": "ipython",
    "version": 3
   },
   "file_extension": ".py",
   "mimetype": "text/x-python",
   "name": "python",
   "nbconvert_exporter": "python",
   "pygments_lexer": "ipython3",
   "version": "3.6.4"
  }
 },
 "nbformat": 4,
 "nbformat_minor": 2
}
