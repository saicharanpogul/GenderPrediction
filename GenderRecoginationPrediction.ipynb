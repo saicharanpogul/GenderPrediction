{
 "cells": [
  {
   "cell_type": "code",
   "execution_count": 2,
   "metadata": {},
   "outputs": [
    {
     "name": "stderr",
     "output_type": "stream",
     "text": [
      "C:\\Users\\Saicharan Pogul\\Anaconda3\\lib\\site-packages\\h5py\\__init__.py:36: FutureWarning: Conversion of the second argument of issubdtype from `float` to `np.floating` is deprecated. In future, it will be treated as `np.float64 == np.dtype(float).type`.\n",
      "  from ._conv import register_converters as _register_converters\n",
      "Using TensorFlow backend.\n"
     ]
    }
   ],
   "source": [
    "from keras.models import load_model\n",
    "import numpy as np\n",
    "import cv2\n",
    "from tkinter import *\n",
    "from keras.preprocessing import image\n",
    "from PIL import ImageTk, Image\n",
    "from tkinter import filedialog"
   ]
  },
  {
   "cell_type": "code",
   "execution_count": 3,
   "metadata": {},
   "outputs": [],
   "source": [
    "gender = load_model(\"gender_recogination.h5\")"
   ]
  },
  {
   "cell_type": "code",
   "execution_count": 4,
   "metadata": {},
   "outputs": [],
   "source": [
    "gender.compile(optimizer = \"adam\", loss = \"binary_crossentropy\", metrics = [\"accuracy\"])"
   ]
  },
  {
   "cell_type": "code",
   "execution_count": 5,
   "metadata": {},
   "outputs": [],
   "source": [
    "from skimage.transform import resize\n",
    "def detect(frame):\n",
    "    try:\n",
    "        img = resize(frame, (64, 64))\n",
    "        img = np.expand_dims(img, axis = 0)\n",
    "        if(np.max(img) > 1):\n",
    "            img = img/255.0\n",
    "        prediction = gender.predict(img)\n",
    "        print(prediction)\n",
    "        prediction_class = gender.predict_classes(img)\n",
    "        print(prediction_class)\n",
    "    except AttributeError:\n",
    "        print(\"Shape Not Found\")\n",
    "    return prediction_class"
   ]
  },
  {
   "cell_type": "code",
   "execution_count": 8,
   "metadata": {},
   "outputs": [
    {
     "name": "stdout",
     "output_type": "stream",
     "text": [
      "opencv_frame_0.jpg written!\n",
      "Escape hit, closing...\n",
      "[[1]]\n"
     ]
    }
   ],
   "source": [
    "def capture_image():\n",
    "    camera = cv2.VideoCapture(0)\n",
    "    cv2.namedWindow(\"test\")\n",
    "    img_counter = 0\n",
    "    while(True):\n",
    "        ret, frame = camera.read()\n",
    "        cv2.imshow(\"test\", frame)\n",
    "        if not ret:\n",
    "            break\n",
    "        k = cv2.waitKey(1)\n",
    "\n",
    "        if k%256 == 27:\n",
    "            # ESC pressed\n",
    "            print(\"Escape hit, closing...\")\n",
    "            break\n",
    "        elif k%256 == 32:\n",
    "            # SPACE pressed\n",
    "            img_name = \"opencv_frame_{}.jpg\".format(img_counter)\n",
    "            cv2.imwrite(img_name, frame)\n",
    "            print(\"{} written!\".format(img_name))\n",
    "            img_counter += 1\n",
    "\n",
    "#camera.release()\n",
    "\n",
    "cv2.destroyAllWindows()\n",
    "\n",
    "r = Tk() \n",
    "r.title('Face Recogination')\n",
    "r.geometry(\"550x300+300+150\")\n",
    "r.resizable(width=True, height=True)\n",
    "\n",
    "w1 = Label(r, text='Click the below button and click Space after webcam is on!')\n",
    "button1 = Button(r, text='Click Photo', width=25, command=capture_image)\n",
    "w1.pack()\n",
    "button1.pack()\n",
    "\n",
    "def openfn():\n",
    "    filename = filedialog.askopenfilename(title='open')\n",
    "    return filename\n",
    "\n",
    "def open_img():\n",
    "    x = openfn()\n",
    "    #frame = cv2.imread(r\"opencv_frame_0.jpg\")\n",
    "    test_image = image.load_img(x, target_size=(64, 64))\n",
    "    test_image = image.img_to_array(test_image)\n",
    "    test_image = np.expand_dims(test_image, axis=0)\n",
    "    result = gender.predict_classes(test_image)\n",
    "    print(result)\n",
    "    if(result[0] == 1):\n",
    "        male = \"Male\"\n",
    "        label2 = Label(r, text=\"Prediction : \"+male)\n",
    "        label2.pack()\n",
    "    else:\n",
    "        female = \"Female\"\n",
    "        label1 = Label(r, text=\"Prediction : \"+female)\n",
    "        label1.pack()\n",
    "       \n",
    "    \n",
    "    img = Image.open(x)\n",
    "    img = img.resize((250, 250), Image.ANTIALIAS)\n",
    "    img = ImageTk.PhotoImage(img)\n",
    "    panel = Label(r, image=img)\n",
    "    panel.image = img\n",
    "    panel.pack()\n",
    "w2 = Label(r, text='Click below button to recogination Gender!')\n",
    "w2.pack()\n",
    "button2 = Button(r, text ='Predict', width=25, command=open_img).pack()\n",
    "\n",
    "\n",
    "r.mainloop() "
   ]
  },
  {
   "cell_type": "code",
   "execution_count": null,
   "metadata": {},
   "outputs": [],
   "source": []
  },
  {
   "cell_type": "code",
   "execution_count": null,
   "metadata": {},
   "outputs": [],
   "source": []
  },
  {
   "cell_type": "code",
   "execution_count": null,
   "metadata": {},
   "outputs": [],
   "source": []
  }
 ],
 "metadata": {
  "kernelspec": {
   "display_name": "Python 3",
   "language": "python",
   "name": "python3"
  },
  "language_info": {
   "codemirror_mode": {
    "name": "ipython",
    "version": 3
   },
   "file_extension": ".py",
   "mimetype": "text/x-python",
   "name": "python",
   "nbconvert_exporter": "python",
   "pygments_lexer": "ipython3",
   "version": "3.6.4"
  }
 },
 "nbformat": 4,
 "nbformat_minor": 2
}
